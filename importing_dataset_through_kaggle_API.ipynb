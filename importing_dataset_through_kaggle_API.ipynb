{
  "nbformat": 4,
  "nbformat_minor": 0,
  "metadata": {
    "colab": {
      "provenance": [],
      "authorship_tag": "ABX9TyPxcrCeintl+rroNuyrum67",
      "include_colab_link": true
    },
    "kernelspec": {
      "name": "python3",
      "display_name": "Python 3"
    },
    "language_info": {
      "name": "python"
    }
  },
  "cells": [
    {
      "cell_type": "markdown",
      "metadata": {
        "id": "view-in-github",
        "colab_type": "text"
      },
      "source": [
        "<a href=\"https://colab.research.google.com/github/abdulrahmanautah/abdulrahmanautah/blob/main/importing_dataset_through_kaggle_API.ipynb\" target=\"_parent\"><img src=\"https://colab.research.google.com/assets/colab-badge.svg\" alt=\"Open In Colab\"/></a>"
      ]
    },
    {
      "cell_type": "code",
      "execution_count": 4,
      "metadata": {
        "colab": {
          "base_uri": "https://localhost:8080/"
        },
        "id": "6zZsoEx_Sc0r",
        "outputId": "415c6f03-2e92-4a69-b615-de8998d517c3"
      },
      "outputs": [
        {
          "output_type": "stream",
          "name": "stdout",
          "text": [
            "/bin/bash: line 1: inkdir: command not found\n",
            "cp: target '/root/.kaggle/' is not a directory\n",
            "/bin/bash: line 1: chmaod: command not found\n"
          ]
        }
      ],
      "source": [
        "!inkdir ~/.kaggle\n",
        "!cp kaggle .json ~/.kaggle/\n",
        "!chmaod 600 -/.kaggle/kaggle.json\n"
      ]
    },
    {
      "cell_type": "markdown",
      "source": [
        "importing the earthquake dataset\n",
        "API to fetch the dataset from kaggle\n"
      ],
      "metadata": {
        "id": "6_WQphy3ckEl"
      }
    },
    {
      "cell_type": "code",
      "source": [
        "!kaggle competitions download -c earthquake-richter-prediction-competition"
      ],
      "metadata": {
        "colab": {
          "base_uri": "https://localhost:8080/"
        },
        "id": "aNRhajIEd_BK",
        "outputId": "d005b23b-712b-4e57-9f34-94f956a9777d"
      },
      "execution_count": 5,
      "outputs": [
        {
          "output_type": "stream",
          "name": "stdout",
          "text": [
            "Traceback (most recent call last):\n",
            "  File \"/usr/local/bin/kaggle\", line 5, in <module>\n",
            "    from kaggle.cli import main\n",
            "  File \"/usr/local/lib/python3.11/dist-packages/kaggle/__init__.py\", line 7, in <module>\n",
            "    api.authenticate()\n",
            "  File \"/usr/local/lib/python3.11/dist-packages/kaggle/api/kaggle_api_extended.py\", line 407, in authenticate\n",
            "    raise IOError('Could not find {}. Make sure it\\'s located in'\n",
            "OSError: Could not find kaggle.json. Make sure it's located in /root/.config/kaggle. Or use the environment method. See setup instructions at https://github.com/Kaggle/kaggle-api/\n"
          ]
        }
      ]
    },
    {
      "cell_type": "code",
      "source": [
        "try:\n",
        "   import zipfile\n",
        "   with zipfile.ZipFile('earthquake -richter -prediction -competition') as zip_ref:\n",
        "       zip_ref.extractall('/content/sample_data/anscombe.json')\n",
        "except:FileNotFoundError\n",
        "print ('the dataset is extracted ')\n",
        "\n"
      ],
      "metadata": {
        "colab": {
          "base_uri": "https://localhost:8080/"
        },
        "id": "-o548NgceYiJ",
        "outputId": "11e198fa-09b6-48f1-de20-92b55b3bbc74"
      },
      "execution_count": 11,
      "outputs": [
        {
          "output_type": "stream",
          "name": "stdout",
          "text": [
            "the dataset is extracted \n"
          ]
        }
      ]
    }
  ]
}