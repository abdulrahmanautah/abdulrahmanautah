{
 "cells": [
  {
   "cell_type": "code",
   "execution_count": 1,
   "id": "4c591202",
   "metadata": {},
   "outputs": [],
   "source": [
    "import numpy as np\n",
    "import pandas as pd\n",
    "import difflib\n",
    "from sklearn.feature_extraction.text import TfidfVectorizer\n",
    "from sklearn.metrics.pairwise import cosine_similarity\n"
   ]
  },
  {
   "cell_type": "code",
   "execution_count": 2,
   "id": "7e8bd98b",
   "metadata": {},
   "outputs": [],
   "source": [
    "#Data collection and preprocessing\n",
    "df = pd.read_csv('movies.csv')"
   ]
  },
  {
   "cell_type": "code",
   "execution_count": 3,
   "id": "56ebda7e",
   "metadata": {
    "scrolled": true
   },
   "outputs": [
    {
     "data": {
      "text/html": [
       "<div>\n",
       "<style scoped>\n",
       "    .dataframe tbody tr th:only-of-type {\n",
       "        vertical-align: middle;\n",
       "    }\n",
       "\n",
       "    .dataframe tbody tr th {\n",
       "        vertical-align: top;\n",
       "    }\n",
       "\n",
       "    .dataframe thead th {\n",
       "        text-align: right;\n",
       "    }\n",
       "</style>\n",
       "<table border=\"1\" class=\"dataframe\">\n",
       "  <thead>\n",
       "    <tr style=\"text-align: right;\">\n",
       "      <th></th>\n",
       "      <th>title</th>\n",
       "      <th>rating</th>\n",
       "      <th>year</th>\n",
       "      <th>runtime</th>\n",
       "    </tr>\n",
       "  </thead>\n",
       "  <tbody>\n",
       "    <tr>\n",
       "      <th>0</th>\n",
       "      <td>Almost Famous</td>\n",
       "      <td>R</td>\n",
       "      <td>2000</td>\n",
       "      <td>122</td>\n",
       "    </tr>\n",
       "    <tr>\n",
       "      <th>1</th>\n",
       "      <td>American Pie</td>\n",
       "      <td>R</td>\n",
       "      <td>1999</td>\n",
       "      <td>95</td>\n",
       "    </tr>\n",
       "    <tr>\n",
       "      <th>2</th>\n",
       "      <td>Back to the Future</td>\n",
       "      <td>PG</td>\n",
       "      <td>1985</td>\n",
       "      <td>116</td>\n",
       "    </tr>\n",
       "    <tr>\n",
       "      <th>3</th>\n",
       "      <td>Blade Runner</td>\n",
       "      <td>R</td>\n",
       "      <td>1982</td>\n",
       "      <td>117</td>\n",
       "    </tr>\n",
       "    <tr>\n",
       "      <th>4</th>\n",
       "      <td>Blood for Dracula</td>\n",
       "      <td>R</td>\n",
       "      <td>1974</td>\n",
       "      <td>106</td>\n",
       "    </tr>\n",
       "    <tr>\n",
       "      <th>5</th>\n",
       "      <td>Blue Velvet</td>\n",
       "      <td>R</td>\n",
       "      <td>1986</td>\n",
       "      <td>120</td>\n",
       "    </tr>\n",
       "    <tr>\n",
       "      <th>6</th>\n",
       "      <td>The Breakfast Club</td>\n",
       "      <td>R</td>\n",
       "      <td>1985</td>\n",
       "      <td>97</td>\n",
       "    </tr>\n",
       "    <tr>\n",
       "      <th>7</th>\n",
       "      <td>Clueless</td>\n",
       "      <td>PG-13</td>\n",
       "      <td>1995</td>\n",
       "      <td>97</td>\n",
       "    </tr>\n",
       "    <tr>\n",
       "      <th>8</th>\n",
       "      <td>Cool Hand Luke</td>\n",
       "      <td>GP</td>\n",
       "      <td>1967</td>\n",
       "      <td>127</td>\n",
       "    </tr>\n",
       "    <tr>\n",
       "      <th>9</th>\n",
       "      <td>The Craft</td>\n",
       "      <td>R</td>\n",
       "      <td>1996</td>\n",
       "      <td>101</td>\n",
       "    </tr>\n",
       "    <tr>\n",
       "      <th>10</th>\n",
       "      <td>Doctor Zhivago</td>\n",
       "      <td>PG-13</td>\n",
       "      <td>1965</td>\n",
       "      <td>197</td>\n",
       "    </tr>\n",
       "    <tr>\n",
       "      <th>11</th>\n",
       "      <td>el Topo</td>\n",
       "      <td>Not Rated</td>\n",
       "      <td>1970</td>\n",
       "      <td>125</td>\n",
       "    </tr>\n",
       "    <tr>\n",
       "      <th>12</th>\n",
       "      <td>Evil Dead</td>\n",
       "      <td>NC-17</td>\n",
       "      <td>1981</td>\n",
       "      <td>85</td>\n",
       "    </tr>\n",
       "    <tr>\n",
       "      <th>13</th>\n",
       "      <td>Ghostbusters</td>\n",
       "      <td>PG</td>\n",
       "      <td>1984</td>\n",
       "      <td>105</td>\n",
       "    </tr>\n",
       "    <tr>\n",
       "      <th>14</th>\n",
       "      <td>Grease</td>\n",
       "      <td>PG-13</td>\n",
       "      <td>1978</td>\n",
       "      <td>110</td>\n",
       "    </tr>\n",
       "    <tr>\n",
       "      <th>15</th>\n",
       "      <td>Heathers</td>\n",
       "      <td>R</td>\n",
       "      <td>1988</td>\n",
       "      <td>103</td>\n",
       "    </tr>\n",
       "    <tr>\n",
       "      <th>16</th>\n",
       "      <td>Labyrinth</td>\n",
       "      <td>PG</td>\n",
       "      <td>1986</td>\n",
       "      <td>101</td>\n",
       "    </tr>\n",
       "    <tr>\n",
       "      <th>17</th>\n",
       "      <td>The Lost Boys</td>\n",
       "      <td>R</td>\n",
       "      <td>1987</td>\n",
       "      <td>97</td>\n",
       "    </tr>\n",
       "    <tr>\n",
       "      <th>18</th>\n",
       "      <td>Mean Girls</td>\n",
       "      <td>PG-13</td>\n",
       "      <td>2004</td>\n",
       "      <td>97</td>\n",
       "    </tr>\n",
       "    <tr>\n",
       "      <th>19</th>\n",
       "      <td>Millennium Actress</td>\n",
       "      <td>PG</td>\n",
       "      <td>2001</td>\n",
       "      <td>87</td>\n",
       "    </tr>\n",
       "    <tr>\n",
       "      <th>20</th>\n",
       "      <td>My Neighbor Totoro</td>\n",
       "      <td>G</td>\n",
       "      <td>1988</td>\n",
       "      <td>86</td>\n",
       "    </tr>\n",
       "    <tr>\n",
       "      <th>21</th>\n",
       "      <td>Napoleon Dynamite</td>\n",
       "      <td>PG</td>\n",
       "      <td>2004</td>\n",
       "      <td>96</td>\n",
       "    </tr>\n",
       "    <tr>\n",
       "      <th>22</th>\n",
       "      <td>Pee-wee's Big Adventure</td>\n",
       "      <td>PG</td>\n",
       "      <td>1985</td>\n",
       "      <td>91</td>\n",
       "    </tr>\n",
       "    <tr>\n",
       "      <th>23</th>\n",
       "      <td>Pretty in Pink</td>\n",
       "      <td>PG-13</td>\n",
       "      <td>1986</td>\n",
       "      <td>97</td>\n",
       "    </tr>\n",
       "    <tr>\n",
       "      <th>24</th>\n",
       "      <td>The Princess Bride</td>\n",
       "      <td>PG</td>\n",
       "      <td>1987</td>\n",
       "      <td>98</td>\n",
       "    </tr>\n",
       "    <tr>\n",
       "      <th>25</th>\n",
       "      <td>Psycho</td>\n",
       "      <td>R</td>\n",
       "      <td>1960</td>\n",
       "      <td>109</td>\n",
       "    </tr>\n",
       "    <tr>\n",
       "      <th>26</th>\n",
       "      <td>Stand by Me</td>\n",
       "      <td>R</td>\n",
       "      <td>1986</td>\n",
       "      <td>89</td>\n",
       "    </tr>\n",
       "    <tr>\n",
       "      <th>27</th>\n",
       "      <td>Super 8</td>\n",
       "      <td>PG-13</td>\n",
       "      <td>2011</td>\n",
       "      <td>112</td>\n",
       "    </tr>\n",
       "    <tr>\n",
       "      <th>28</th>\n",
       "      <td>superbad</td>\n",
       "      <td>R</td>\n",
       "      <td>2007</td>\n",
       "      <td>113</td>\n",
       "    </tr>\n",
       "    <tr>\n",
       "      <th>29</th>\n",
       "      <td>WarGames</td>\n",
       "      <td>PG</td>\n",
       "      <td>1983</td>\n",
       "      <td>114</td>\n",
       "    </tr>\n",
       "  </tbody>\n",
       "</table>\n",
       "</div>"
      ],
      "text/plain": [
       "                      title     rating  year  runtime\n",
       "0             Almost Famous          R  2000      122\n",
       "1              American Pie          R  1999       95\n",
       "2        Back to the Future         PG  1985      116\n",
       "3              Blade Runner          R  1982      117\n",
       "4         Blood for Dracula          R  1974      106\n",
       "5               Blue Velvet          R  1986      120\n",
       "6        The Breakfast Club          R  1985       97\n",
       "7                  Clueless      PG-13  1995       97\n",
       "8            Cool Hand Luke         GP  1967      127\n",
       "9                 The Craft          R  1996      101\n",
       "10           Doctor Zhivago      PG-13  1965      197\n",
       "11                  el Topo  Not Rated  1970      125\n",
       "12                Evil Dead      NC-17  1981       85\n",
       "13             Ghostbusters         PG  1984      105\n",
       "14                   Grease      PG-13  1978      110\n",
       "15                 Heathers          R  1988      103\n",
       "16                Labyrinth         PG  1986      101\n",
       "17            The Lost Boys          R  1987       97\n",
       "18               Mean Girls      PG-13  2004       97\n",
       "19       Millennium Actress         PG  2001       87\n",
       "20       My Neighbor Totoro          G  1988       86\n",
       "21        Napoleon Dynamite         PG  2004       96\n",
       "22  Pee-wee's Big Adventure         PG  1985       91\n",
       "23           Pretty in Pink      PG-13  1986       97\n",
       "24       The Princess Bride         PG  1987       98\n",
       "25                   Psycho          R  1960      109\n",
       "26              Stand by Me          R  1986       89\n",
       "27                  Super 8      PG-13  2011      112\n",
       "28                 superbad          R  2007      113\n",
       "29                 WarGames         PG  1983      114"
      ]
     },
     "execution_count": 3,
     "metadata": {},
     "output_type": "execute_result"
    }
   ],
   "source": [
    "df"
   ]
  },
  {
   "cell_type": "code",
   "execution_count": 4,
   "id": "bf4a414a",
   "metadata": {},
   "outputs": [
    {
     "data": {
      "text/html": [
       "<div>\n",
       "<style scoped>\n",
       "    .dataframe tbody tr th:only-of-type {\n",
       "        vertical-align: middle;\n",
       "    }\n",
       "\n",
       "    .dataframe tbody tr th {\n",
       "        vertical-align: top;\n",
       "    }\n",
       "\n",
       "    .dataframe thead th {\n",
       "        text-align: right;\n",
       "    }\n",
       "</style>\n",
       "<table border=\"1\" class=\"dataframe\">\n",
       "  <thead>\n",
       "    <tr style=\"text-align: right;\">\n",
       "      <th></th>\n",
       "      <th>title</th>\n",
       "      <th>rating</th>\n",
       "      <th>year</th>\n",
       "      <th>runtime</th>\n",
       "    </tr>\n",
       "  </thead>\n",
       "  <tbody>\n",
       "    <tr>\n",
       "      <th>0</th>\n",
       "      <td>Almost Famous</td>\n",
       "      <td>R</td>\n",
       "      <td>2000</td>\n",
       "      <td>122</td>\n",
       "    </tr>\n",
       "    <tr>\n",
       "      <th>1</th>\n",
       "      <td>American Pie</td>\n",
       "      <td>R</td>\n",
       "      <td>1999</td>\n",
       "      <td>95</td>\n",
       "    </tr>\n",
       "    <tr>\n",
       "      <th>2</th>\n",
       "      <td>Back to the Future</td>\n",
       "      <td>PG</td>\n",
       "      <td>1985</td>\n",
       "      <td>116</td>\n",
       "    </tr>\n",
       "    <tr>\n",
       "      <th>3</th>\n",
       "      <td>Blade Runner</td>\n",
       "      <td>R</td>\n",
       "      <td>1982</td>\n",
       "      <td>117</td>\n",
       "    </tr>\n",
       "    <tr>\n",
       "      <th>4</th>\n",
       "      <td>Blood for Dracula</td>\n",
       "      <td>R</td>\n",
       "      <td>1974</td>\n",
       "      <td>106</td>\n",
       "    </tr>\n",
       "  </tbody>\n",
       "</table>\n",
       "</div>"
      ],
      "text/plain": [
       "                title rating  year  runtime\n",
       "0       Almost Famous      R  2000      122\n",
       "1        American Pie      R  1999       95\n",
       "2  Back to the Future     PG  1985      116\n",
       "3        Blade Runner      R  1982      117\n",
       "4   Blood for Dracula      R  1974      106"
      ]
     },
     "execution_count": 4,
     "metadata": {},
     "output_type": "execute_result"
    }
   ],
   "source": [
    "df.head()"
   ]
  },
  {
   "cell_type": "code",
   "execution_count": 5,
   "id": "87292459",
   "metadata": {},
   "outputs": [
    {
     "name": "stdout",
     "output_type": "stream",
     "text": [
      "<class 'pandas.core.frame.DataFrame'>\n",
      "RangeIndex: 30 entries, 0 to 29\n",
      "Data columns (total 4 columns):\n",
      " #   Column   Non-Null Count  Dtype \n",
      "---  ------   --------------  ----- \n",
      " 0   title    30 non-null     object\n",
      " 1   rating   30 non-null     object\n",
      " 2   year     30 non-null     int64 \n",
      " 3   runtime  30 non-null     int64 \n",
      "dtypes: int64(2), object(2)\n",
      "memory usage: 1.1+ KB\n"
     ]
    }
   ],
   "source": [
    "df.info()"
   ]
  },
  {
   "cell_type": "code",
   "execution_count": 6,
   "id": "a8f38ad3",
   "metadata": {},
   "outputs": [
    {
     "data": {
      "text/plain": [
       "title      0\n",
       "rating     0\n",
       "year       0\n",
       "runtime    0\n",
       "dtype: int64"
      ]
     },
     "execution_count": 6,
     "metadata": {},
     "output_type": "execute_result"
    }
   ],
   "source": [
    "df.isnull().sum()"
   ]
  },
  {
   "cell_type": "code",
   "execution_count": 7,
   "id": "2eea9971",
   "metadata": {},
   "outputs": [
    {
     "data": {
      "text/html": [
       "<div>\n",
       "<style scoped>\n",
       "    .dataframe tbody tr th:only-of-type {\n",
       "        vertical-align: middle;\n",
       "    }\n",
       "\n",
       "    .dataframe tbody tr th {\n",
       "        vertical-align: top;\n",
       "    }\n",
       "\n",
       "    .dataframe thead th {\n",
       "        text-align: right;\n",
       "    }\n",
       "</style>\n",
       "<table border=\"1\" class=\"dataframe\">\n",
       "  <thead>\n",
       "    <tr style=\"text-align: right;\">\n",
       "      <th></th>\n",
       "      <th>year</th>\n",
       "      <th>runtime</th>\n",
       "    </tr>\n",
       "  </thead>\n",
       "  <tbody>\n",
       "    <tr>\n",
       "      <th>count</th>\n",
       "      <td>30.000000</td>\n",
       "      <td>30.000000</td>\n",
       "    </tr>\n",
       "    <tr>\n",
       "      <th>mean</th>\n",
       "      <td>1987.000000</td>\n",
       "      <td>107.000000</td>\n",
       "    </tr>\n",
       "    <tr>\n",
       "      <th>std</th>\n",
       "      <td>12.406895</td>\n",
       "      <td>20.649789</td>\n",
       "    </tr>\n",
       "    <tr>\n",
       "      <th>min</th>\n",
       "      <td>1960.000000</td>\n",
       "      <td>85.000000</td>\n",
       "    </tr>\n",
       "    <tr>\n",
       "      <th>25%</th>\n",
       "      <td>1982.250000</td>\n",
       "      <td>97.000000</td>\n",
       "    </tr>\n",
       "    <tr>\n",
       "      <th>50%</th>\n",
       "      <td>1986.000000</td>\n",
       "      <td>102.000000</td>\n",
       "    </tr>\n",
       "    <tr>\n",
       "      <th>75%</th>\n",
       "      <td>1995.750000</td>\n",
       "      <td>113.750000</td>\n",
       "    </tr>\n",
       "    <tr>\n",
       "      <th>max</th>\n",
       "      <td>2011.000000</td>\n",
       "      <td>197.000000</td>\n",
       "    </tr>\n",
       "  </tbody>\n",
       "</table>\n",
       "</div>"
      ],
      "text/plain": [
       "              year     runtime\n",
       "count    30.000000   30.000000\n",
       "mean   1987.000000  107.000000\n",
       "std      12.406895   20.649789\n",
       "min    1960.000000   85.000000\n",
       "25%    1982.250000   97.000000\n",
       "50%    1986.000000  102.000000\n",
       "75%    1995.750000  113.750000\n",
       "max    2011.000000  197.000000"
      ]
     },
     "execution_count": 7,
     "metadata": {},
     "output_type": "execute_result"
    }
   ],
   "source": [
    "df.describe()"
   ]
  },
  {
   "cell_type": "code",
   "execution_count": 8,
   "id": "493115d6",
   "metadata": {},
   "outputs": [
    {
     "data": {
      "text/plain": [
       "(30, 4)"
      ]
     },
     "execution_count": 8,
     "metadata": {},
     "output_type": "execute_result"
    }
   ],
   "source": [
    "df.shape"
   ]
  },
  {
   "cell_type": "code",
   "execution_count": 9,
   "id": "0df594df",
   "metadata": {},
   "outputs": [
    {
     "name": "stdout",
     "output_type": "stream",
     "text": [
      "['title', 'rating']\n"
     ]
    }
   ],
   "source": [
    "#Data collection and preprocessing\n",
    "df = pd.read_csv('movies.csv')"
   ]
  },
  {
   "cell_type": "code",
   "execution_count": 10,
   "id": "fccb1f47",
   "metadata": {},
   "outputs": [],
   "source": [
    "#replacing the null_value with string\n",
    "for feature in selected_features:\n",
    "    df[feature] = df[feature].fillna('')"
   ]
  },
  {
   "cell_type": "code",
   "execution_count": 11,
   "id": "7179198d",
   "metadata": {},
   "outputs": [],
   "source": [
    "combined_feature = df['title'] + df['rating']"
   ]
  },
  {
   "cell_type": "code",
   "execution_count": 12,
   "id": "1aa43469",
   "metadata": {},
   "outputs": [
    {
     "name": "stdout",
     "output_type": "stream",
     "text": [
      "0                Almost FamousR\n",
      "1                 American PieR\n",
      "2          Back to the FuturePG\n",
      "3                 Blade RunnerR\n",
      "4            Blood for DraculaR\n",
      "5                  Blue VelvetR\n",
      "6           The Breakfast ClubR\n",
      "7                 CluelessPG-13\n",
      "8              Cool Hand LukeGP\n",
      "9                    The CraftR\n",
      "10          Doctor ZhivagoPG-13\n",
      "11             el TopoNot Rated\n",
      "12               Evil DeadNC-17\n",
      "13               GhostbustersPG\n",
      "14                  GreasePG-13\n",
      "15                    HeathersR\n",
      "16                  LabyrinthPG\n",
      "17               The Lost BoysR\n",
      "18              Mean GirlsPG-13\n",
      "19         Millennium ActressPG\n",
      "20          My Neighbor TotoroG\n",
      "21          Napoleon DynamitePG\n",
      "22    Pee-wee's Big AdventurePG\n",
      "23          Pretty in PinkPG-13\n",
      "24         The Princess BridePG\n",
      "25                      PsychoR\n",
      "26                 Stand by MeR\n",
      "27                 Super 8PG-13\n",
      "28                    superbadR\n",
      "29                   WarGamesPG\n",
      "dtype: object\n"
     ]
    }
   ],
   "source": [
    "print(combined_feature)"
   ]
  },
  {
   "cell_type": "code",
   "execution_count": 13,
   "id": "51a414f1",
   "metadata": {},
   "outputs": [],
   "source": [
    "# converting the text data to future vector\n",
    "vectorizer =TfidfVectorizer()"
   ]
  },
  {
   "cell_type": "code",
   "execution_count": 14,
   "id": "8609965c",
   "metadata": {},
   "outputs": [],
   "source": [
    "future_vectors = vectorizer.fit_transform(combined_feature)"
   ]
  },
  {
   "cell_type": "code",
   "execution_count": 15,
   "id": "2b030894",
   "metadata": {},
   "outputs": [
    {
     "name": "stdout",
     "output_type": "stream",
     "text": [
      "  (0, 26)\t0.7071067811865475\n",
      "  (0, 5)\t0.7071067811865475\n",
      "  (1, 45)\t0.7071067811865475\n",
      "  (1, 6)\t0.7071067811865475\n",
      "  (2, 28)\t0.5346074901415979\n",
      "  (2, 55)\t0.3776036208161989\n",
      "  (2, 56)\t0.5346074901415979\n",
      "  (2, 7)\t0.5346074901415979\n",
      "  (3, 51)\t0.7071067811865475\n",
      "  (3, 9)\t0.7071067811865475\n",
      "  (4, 22)\t0.5773502691896257\n",
      "  (4, 27)\t0.5773502691896257\n",
      "  (4, 10)\t0.5773502691896257\n",
      "  (5, 59)\t0.7071067811865475\n",
      "  (5, 11)\t0.7071067811865475\n",
      "  (6, 16)\t0.6325963586346616\n",
      "  (6, 13)\t0.6325963586346616\n",
      "  (6, 55)\t0.44681505579415437\n",
      "  (7, 0)\t0.5538036073190501\n",
      "  (7, 17)\t0.8326473230128152\n",
      "  (8, 37)\t0.5773502691896257\n",
      "  (8, 32)\t0.5773502691896257\n",
      "  (8, 18)\t0.5773502691896257\n",
      "  (9, 19)\t0.8167996590198933\n",
      "  (9, 55)\t0.5769214132141274\n",
      "  :\t:\n",
      "  (20, 58)\t0.5773502691896257\n",
      "  (20, 43)\t0.5773502691896257\n",
      "  (20, 41)\t0.5773502691896257\n",
      "  (21, 23)\t0.7071067811865475\n",
      "  (21, 42)\t0.7071067811865475\n",
      "  (22, 4)\t0.5\n",
      "  (22, 8)\t0.5\n",
      "  (22, 61)\t0.5\n",
      "  (22, 44)\t0.5\n",
      "  (23, 46)\t0.5389779364053504\n",
      "  (23, 34)\t0.5389779364053504\n",
      "  (23, 47)\t0.5389779364053504\n",
      "  (23, 0)\t0.35848061621891103\n",
      "  (24, 14)\t0.6325963586346616\n",
      "  (24, 48)\t0.6325963586346616\n",
      "  (24, 55)\t0.44681505579415437\n",
      "  (25, 49)\t1.0\n",
      "  (26, 39)\t0.5773502691896257\n",
      "  (26, 15)\t0.5773502691896257\n",
      "  (26, 52)\t0.5773502691896257\n",
      "  (27, 2)\t0.639873221266608\n",
      "  (27, 53)\t0.639873221266608\n",
      "  (27, 0)\t0.4255872665056947\n",
      "  (28, 54)\t1.0\n",
      "  (29, 60)\t1.0\n"
     ]
    }
   ],
   "source": [
    "print(future_vectors)"
   ]
  },
  {
   "cell_type": "code",
   "execution_count": 16,
   "id": "2a4b94e4",
   "metadata": {},
   "outputs": [],
   "source": [
    "# cosine similarity score using cosine similarity\n",
    " \n",
    "similarity = cosine_similarity(future_vectors)"
   ]
  },
  {
   "cell_type": "code",
   "execution_count": 17,
   "id": "155d164e",
   "metadata": {},
   "outputs": [
    {
     "name": "stdout",
     "output_type": "stream",
     "text": [
      "[[1.         0.         0.         0.         0.         0.\n",
      "  0.         0.         0.         0.         0.         0.\n",
      "  0.         0.         0.         0.         0.         0.\n",
      "  0.         0.         0.         0.         0.         0.\n",
      "  0.         0.         0.         0.         0.         0.        ]\n",
      " [0.         1.         0.         0.         0.         0.\n",
      "  0.         0.         0.         0.         0.         0.\n",
      "  0.         0.         0.         0.         0.         0.\n",
      "  0.         0.         0.         0.         0.         0.\n",
      "  0.         0.         0.         0.         0.         0.        ]\n",
      " [0.         0.         1.         0.         0.         0.\n",
      "  0.16871898 0.         0.         0.21784761 0.         0.\n",
      "  0.         0.         0.         0.         0.         0.16871898\n",
      "  0.         0.         0.         0.         0.         0.\n",
      "  0.16871898 0.         0.         0.         0.         0.        ]\n",
      " [0.         0.         0.         1.         0.         0.\n",
      "  0.         0.         0.         0.         0.         0.\n",
      "  0.         0.         0.         0.         0.         0.\n",
      "  0.         0.         0.         0.         0.         0.\n",
      "  0.         0.         0.         0.         0.         0.        ]\n",
      " [0.         0.         0.         0.         1.         0.\n",
      "  0.         0.         0.         0.         0.         0.\n",
      "  0.         0.         0.         0.         0.         0.\n",
      "  0.         0.         0.         0.         0.         0.\n",
      "  0.         0.         0.         0.         0.         0.        ]\n",
      " [0.         0.         0.         0.         0.         1.\n",
      "  0.         0.         0.         0.         0.         0.\n",
      "  0.         0.         0.         0.         0.         0.\n",
      "  0.         0.         0.         0.         0.         0.\n",
      "  0.         0.         0.         0.         0.         0.        ]\n",
      " [0.         0.         0.16871898 0.         0.         0.\n",
      "  1.         0.         0.         0.25777717 0.         0.\n",
      "  0.         0.         0.         0.         0.         0.19964369\n",
      "  0.         0.         0.         0.         0.         0.\n",
      "  0.19964369 0.         0.         0.         0.         0.        ]\n",
      " [0.         0.         0.         0.         0.         0.\n",
      "  0.         1.         0.         0.         0.23569176 0.\n",
      "  0.         0.         0.30669844 0.         0.         0.\n",
      "  0.23569176 0.         0.         0.         0.         0.19852786\n",
      "  0.         0.         0.         0.23569176 0.         0.        ]\n",
      " [0.         0.         0.         0.         0.         0.\n",
      "  0.         0.         1.         0.         0.         0.\n",
      "  0.         0.         0.         0.         0.         0.\n",
      "  0.         0.         0.         0.         0.         0.\n",
      "  0.         0.         0.         0.         0.         0.        ]\n",
      " [0.         0.         0.21784761 0.         0.         0.\n",
      "  0.25777717 0.         0.         1.         0.         0.\n",
      "  0.         0.         0.         0.         0.         0.25777717\n",
      "  0.         0.         0.         0.         0.         0.\n",
      "  0.25777717 0.         0.         0.         0.         0.        ]\n",
      " [0.         0.         0.         0.         0.         0.\n",
      "  0.         0.23569176 0.         0.         1.         0.\n",
      "  0.         0.         0.23569176 0.         0.         0.\n",
      "  0.18112452 0.         0.         0.         0.         0.15256479\n",
      "  0.         0.         0.         0.18112452 0.         0.        ]\n",
      " [0.         0.         0.         0.         0.         0.\n",
      "  0.         0.         0.         0.         0.         1.\n",
      "  0.         0.         0.         0.         0.         0.\n",
      "  0.         0.         0.         0.         0.         0.\n",
      "  0.         0.         0.         0.         0.         0.        ]\n",
      " [0.         0.         0.         0.         0.         0.\n",
      "  0.         0.         0.         0.         0.         0.\n",
      "  1.         0.         0.         0.         0.         0.\n",
      "  0.         0.         0.         0.         0.         0.\n",
      "  0.         0.         0.         0.         0.         0.        ]\n",
      " [0.         0.         0.         0.         0.         0.\n",
      "  0.         0.         0.         0.         0.         0.\n",
      "  0.         1.         0.         0.         0.         0.\n",
      "  0.         0.         0.         0.         0.         0.\n",
      "  0.         0.         0.         0.         0.         0.        ]\n",
      " [0.         0.         0.         0.         0.         0.\n",
      "  0.         0.30669844 0.         0.         0.23569176 0.\n",
      "  0.         0.         1.         0.         0.         0.\n",
      "  0.23569176 0.         0.         0.         0.         0.19852786\n",
      "  0.         0.         0.         0.23569176 0.         0.        ]\n",
      " [0.         0.         0.         0.         0.         0.\n",
      "  0.         0.         0.         0.         0.         0.\n",
      "  0.         0.         0.         1.         0.         0.\n",
      "  0.         0.         0.         0.         0.         0.\n",
      "  0.         0.         0.         0.         0.         0.        ]\n",
      " [0.         0.         0.         0.         0.         0.\n",
      "  0.         0.         0.         0.         0.         0.\n",
      "  0.         0.         0.         0.         1.         0.\n",
      "  0.         0.         0.         0.         0.         0.\n",
      "  0.         0.         0.         0.         0.         0.        ]\n",
      " [0.         0.         0.16871898 0.         0.         0.\n",
      "  0.19964369 0.         0.         0.25777717 0.         0.\n",
      "  0.         0.         0.         0.         0.         1.\n",
      "  0.         0.         0.         0.         0.         0.\n",
      "  0.19964369 0.         0.         0.         0.         0.        ]\n",
      " [0.         0.         0.         0.         0.         0.\n",
      "  0.         0.23569176 0.         0.         0.18112452 0.\n",
      "  0.         0.         0.23569176 0.         0.         0.\n",
      "  1.         0.         0.         0.         0.         0.15256479\n",
      "  0.         0.         0.         0.18112452 0.         0.        ]\n",
      " [0.         0.         0.         0.         0.         0.\n",
      "  0.         0.         0.         0.         0.         0.\n",
      "  0.         0.         0.         0.         0.         0.\n",
      "  0.         1.         0.         0.         0.         0.\n",
      "  0.         0.         0.         0.         0.         0.        ]\n",
      " [0.         0.         0.         0.         0.         0.\n",
      "  0.         0.         0.         0.         0.         0.\n",
      "  0.         0.         0.         0.         0.         0.\n",
      "  0.         0.         1.         0.         0.         0.\n",
      "  0.         0.         0.         0.         0.         0.        ]\n",
      " [0.         0.         0.         0.         0.         0.\n",
      "  0.         0.         0.         0.         0.         0.\n",
      "  0.         0.         0.         0.         0.         0.\n",
      "  0.         0.         0.         1.         0.         0.\n",
      "  0.         0.         0.         0.         0.         0.        ]\n",
      " [0.         0.         0.         0.         0.         0.\n",
      "  0.         0.         0.         0.         0.         0.\n",
      "  0.         0.         0.         0.         0.         0.\n",
      "  0.         0.         0.         0.         1.         0.\n",
      "  0.         0.         0.         0.         0.         0.        ]\n",
      " [0.         0.         0.         0.         0.         0.\n",
      "  0.         0.19852786 0.         0.         0.15256479 0.\n",
      "  0.         0.         0.19852786 0.         0.         0.\n",
      "  0.15256479 0.         0.         0.         0.         1.\n",
      "  0.         0.         0.         0.15256479 0.         0.        ]\n",
      " [0.         0.         0.16871898 0.         0.         0.\n",
      "  0.19964369 0.         0.         0.25777717 0.         0.\n",
      "  0.         0.         0.         0.         0.         0.19964369\n",
      "  0.         0.         0.         0.         0.         0.\n",
      "  1.         0.         0.         0.         0.         0.        ]\n",
      " [0.         0.         0.         0.         0.         0.\n",
      "  0.         0.         0.         0.         0.         0.\n",
      "  0.         0.         0.         0.         0.         0.\n",
      "  0.         0.         0.         0.         0.         0.\n",
      "  0.         1.         0.         0.         0.         0.        ]\n",
      " [0.         0.         0.         0.         0.         0.\n",
      "  0.         0.         0.         0.         0.         0.\n",
      "  0.         0.         0.         0.         0.         0.\n",
      "  0.         0.         0.         0.         0.         0.\n",
      "  0.         0.         1.         0.         0.         0.        ]\n",
      " [0.         0.         0.         0.         0.         0.\n",
      "  0.         0.23569176 0.         0.         0.18112452 0.\n",
      "  0.         0.         0.23569176 0.         0.         0.\n",
      "  0.18112452 0.         0.         0.         0.         0.15256479\n",
      "  0.         0.         0.         1.         0.         0.        ]\n",
      " [0.         0.         0.         0.         0.         0.\n",
      "  0.         0.         0.         0.         0.         0.\n",
      "  0.         0.         0.         0.         0.         0.\n",
      "  0.         0.         0.         0.         0.         0.\n",
      "  0.         0.         0.         0.         1.         0.        ]\n",
      " [0.         0.         0.         0.         0.         0.\n",
      "  0.         0.         0.         0.         0.         0.\n",
      "  0.         0.         0.         0.         0.         0.\n",
      "  0.         0.         0.         0.         0.         0.\n",
      "  0.         0.         0.         0.         0.         1.        ]]\n"
     ]
    }
   ],
   "source": [
    "print(similarity)"
   ]
  },
  {
   "cell_type": "code",
   "execution_count": 18,
   "id": "17e720be",
   "metadata": {},
   "outputs": [
    {
     "data": {
      "text/plain": [
       "(30, 30)"
      ]
     },
     "execution_count": 18,
     "metadata": {},
     "output_type": "execute_result"
    }
   ],
   "source": [
    "similarity.shape"
   ]
  },
  {
   "cell_type": "code",
   "execution_count": 24,
   "id": "2670c0b9",
   "metadata": {},
   "outputs": [
    {
     "name": "stdout",
     "output_type": "stream",
     "text": [
      "Enter your favourite movie name:America pie\n"
     ]
    }
   ],
   "source": [
    "#getting the movie name from the user\n",
    "\n",
    "df = input('Enter your favourite movie name:')"
   ]
  },
  {
   "cell_type": "code",
   "execution_count": 1,
   "id": "f58497cc",
   "metadata": {},
   "outputs": [
    {
     "ename": "NameError",
     "evalue": "name 'df' is not defined",
     "output_type": "error",
     "traceback": [
      "\u001b[1;31m---------------------------------------------------------------------------\u001b[0m",
      "\u001b[1;31mNameError\u001b[0m                                 Traceback (most recent call last)",
      "Cell \u001b[1;32mIn[1], line 2\u001b[0m\n\u001b[0;32m      1\u001b[0m \u001b[38;5;66;03m#creating a list of title name given the datasets\u001b[39;00m\n\u001b[1;32m----> 2\u001b[0m list_of_all_movies \u001b[38;5;241m=\u001b[39m \u001b[43mdf\u001b[49m[\u001b[38;5;124m'\u001b[39m\u001b[38;5;124mmovie\u001b[39m\u001b[38;5;124m'\u001b[39m]\u001b[38;5;241m.\u001b[39mtolist()\n\u001b[0;32m      3\u001b[0m \u001b[38;5;28mprint\u001b[39m(list_of_all_title)\n",
      "\u001b[1;31mNameError\u001b[0m: name 'df' is not defined"
     ]
    }
   ],
   "source": [
    "#creating a list of title name given the datasets\n",
    "list_of_all_movies = df['movie'].tolist()\n",
    "print(list_of_all_title)"
   ]
  },
  {
   "cell_type": "code",
   "execution_count": 27,
   "id": "52ca6646",
   "metadata": {},
   "outputs": [
    {
     "ename": "NameError",
     "evalue": "name 'list_of_all_title' is not defined",
     "output_type": "error",
     "traceback": [
      "\u001b[1;31m---------------------------------------------------------------------------\u001b[0m",
      "\u001b[1;31mNameError\u001b[0m                                 Traceback (most recent call last)",
      "Cell \u001b[1;32mIn[27], line 2\u001b[0m\n\u001b[0;32m      1\u001b[0m \u001b[38;5;66;03m#finding the close match given by the user\u001b[39;00m\n\u001b[1;32m----> 2\u001b[0m find_close_match \u001b[38;5;241m=\u001b[39m difflib\u001b[38;5;241m.\u001b[39mget_close_matches(df,\u001b[43mlist_of_all_title\u001b[49m)\n\u001b[0;32m      3\u001b[0m \u001b[38;5;28mprint\u001b[39m(list_of_all_title)\n",
      "\u001b[1;31mNameError\u001b[0m: name 'list_of_all_title' is not defined"
     ]
    }
   ],
   "source": [
    "#finding the close match given by the user\n",
    "find_close_match = difflib.get_close_matches(df,list_of_all_title)\n",
    "print(list_of_all_title)"
   ]
  },
  {
   "cell_type": "code",
   "execution_count": 28,
   "id": "75d592b8",
   "metadata": {},
   "outputs": [
    {
     "ename": "NameError",
     "evalue": "name 'find_close_match' is not defined",
     "output_type": "error",
     "traceback": [
      "\u001b[1;31m---------------------------------------------------------------------------\u001b[0m",
      "\u001b[1;31mNameError\u001b[0m                                 Traceback (most recent call last)",
      "Cell \u001b[1;32mIn[28], line 1\u001b[0m\n\u001b[1;32m----> 1\u001b[0m close_match \u001b[38;5;241m=\u001b[39m \u001b[43mfind_close_match\u001b[49m[\u001b[38;5;241m0\u001b[39m]\n\u001b[0;32m      2\u001b[0m \u001b[38;5;28mprint\u001b[39m(close_match)\n",
      "\u001b[1;31mNameError\u001b[0m: name 'find_close_match' is not defined"
     ]
    }
   ],
   "source": [
    "close_match = find_close_match[0]\n",
    "print(close_match)"
   ]
  },
  {
   "cell_type": "code",
   "execution_count": null,
   "id": "7331a712",
   "metadata": {},
   "outputs": [],
   "source": [
    "#find the index of the movie with the title\n",
    "index_of_the_movie = df.title == close_match['index'].values[0]"
   ]
  },
  {
   "cell_type": "code",
   "execution_count": null,
   "id": "b4c26f8c",
   "metadata": {},
   "outputs": [],
   "source": [
    "#getting the similarity movie\n",
    "similarity_score = list(enumerate(similarity[index_of_the_movie]))\n",
    "print(similarity_score)"
   ]
  },
  {
   "cell_type": "code",
   "execution_count": null,
   "id": "52cebcdf",
   "metadata": {},
   "outputs": [],
   "source": [
    "len(similarity_score)"
   ]
  },
  {
   "cell_type": "code",
   "execution_count": null,
   "id": "e782c002",
   "metadata": {},
   "outputs": [],
   "source": [
    "#sorting the movie based on their similarity score\n",
    "sorted_similar_movies = score(similarity_score, key = lambda x:x[], reverse=True)\n",
    "print(sorted_similar_movies)"
   ]
  },
  {
   "cell_type": "code",
   "execution_count": null,
   "id": "49a4fdec",
   "metadata": {},
   "outputs": [],
   "source": [
    "# print the name of similar movie based on the inks\n",
    "print('movie suggested for you:\\n')\n",
    "\n",
    "for movie in sorted_similar_movies:\n",
    "    index = movie[0]\n",
    "    tital_from_index = df"
   ]
  }
 ],
 "metadata": {
  "kernelspec": {
   "display_name": "Python 3 (ipykernel)",
   "language": "python",
   "name": "python3"
  },
  "language_info": {
   "codemirror_mode": {
    "name": "ipython",
    "version": 3
   },
   "file_extension": ".py",
   "mimetype": "text/x-python",
   "name": "python",
   "nbconvert_exporter": "python",
   "pygments_lexer": "ipython3",
   "version": "3.10.9"
  }
 },
 "nbformat": 4,
 "nbformat_minor": 5
}
